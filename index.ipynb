{
 "cells": [
  {
   "cell_type": "markdown",
   "metadata": {},
   "source": [
    "# Join Statements - Lab\n",
    "\n",
    "## Introduction\n",
    "\n",
    "In this lab, you'll practice your knowledge of `JOIN` statements, using various types of joins and various methods for specifying the links between them.\n",
    "\n",
    "## Objectives\n",
    "\n",
    "You will be able to:\n",
    "* Write SQL queries that make use of various types of joins\n",
    "* Compare and contrast the various types of joins\n",
    "* Discuss how primary and foreign keys are used in SQL\n",
    "* Decide and perform whichever type of join is best for retrieving desired data"
   ]
  },
  {
   "cell_type": "markdown",
   "metadata": {},
   "source": [
    "## CRM Schema\n",
    "\n",
    "In almost all cases, rather than just working with a single table you will typically need data from multiple tables. \n",
    "Doing this requires the use of **joins** using shared columns from the two tables. \n",
    "\n",
    "In this lab, you'll use the same customer relationship management (CRM) database that you saw from the previous lesson.\n",
    "<img src='images/Database-Schema.png' width=\"600\">"
   ]
  },
  {
   "cell_type": "markdown",
   "metadata": {},
   "source": [
    "## Connecting to the Database\n",
    "Import the necessary packages and connect to the database **data.sqlite**."
   ]
  },
  {
   "cell_type": "code",
   "execution_count": 2,
   "metadata": {},
   "outputs": [],
   "source": [
    "import sqlite3\n",
    "import pandas as pd"
   ]
  },
  {
   "cell_type": "markdown",
   "metadata": {},
   "source": [
    "## Display the names of all the employees in Boston.\n",
    "Hint: join the employees and offices tables."
   ]
  },
  {
   "cell_type": "code",
   "execution_count": 3,
   "metadata": {},
   "outputs": [],
   "source": [
    "conn = sqlite3.connect('data.sqlite')\n",
    "cur = conn.cursor()"
   ]
  },
  {
   "cell_type": "markdown",
   "metadata": {},
   "source": [
    "## Are there any offices that have zero employees?\n",
    "Hint: Combine the employees and offices tables and use a group by."
   ]
  },
  {
   "cell_type": "code",
   "execution_count": 19,
   "metadata": {},
   "outputs": [
    {
     "data": {
      "text/plain": [
       "[]"
      ]
     },
     "execution_count": 19,
     "metadata": {},
     "output_type": "execute_result"
    }
   ],
   "source": [
    "cur.execute('''SELECT * FROM offices JOIN employees USING(officeCode)\n",
    "               GROUP BY officeCode\n",
    "               HAVING COUNT(employeeNumber)=0;''').fetchall()"
   ]
  },
  {
   "cell_type": "markdown",
   "metadata": {},
   "source": [
    "## Write 3 Questions of your own and answer them"
   ]
  },
  {
   "cell_type": "code",
   "execution_count": 25,
   "metadata": {},
   "outputs": [
    {
     "data": {
      "text/plain": [
       "[('', 'Leslie', 'Jennings', '1969 Harley Davidson Ultimate Chopper'),\n",
       " ('', 'Leslie', 'Jennings', '1952 Alpine Renault 1300'),\n",
       " ('', 'Leslie', 'Jennings', '1996 Moto Guzzi 1100i'),\n",
       " ('', 'Leslie', 'Jennings', '2003 Harley-Davidson Eagle Drag Bike'),\n",
       " ('', 'Leslie', 'Jennings', '1972 Alfa Romeo GTA'),\n",
       " ('', 'Leslie', 'Jennings', '1962 LanciaA Delta 16V'),\n",
       " ('', 'Leslie', 'Jennings', '1968 Ford Mustang'),\n",
       " ('', 'Leslie', 'Jennings', '2001 Ferrari Enzo'),\n",
       " ('', 'Leslie', 'Jennings', '1958 Setra Bus'),\n",
       " ('', 'Leslie', 'Jennings', '2002 Suzuki XREO'),\n",
       " ('', 'Leslie', 'Jennings', '1969 Corvair Monza'),\n",
       " ('', 'Leslie', 'Jennings', '1968 Dodge Charger'),\n",
       " ('', 'Leslie', 'Jennings', '1969 Ford Falcon'),\n",
       " ('', 'Leslie', 'Jennings', '1970 Plymouth Hemi Cuda'),\n",
       " ('', 'Leslie', 'Jennings', '1957 Chevy Pickup'),\n",
       " ('', 'Leslie', 'Jennings', '1969 Dodge Charger'),\n",
       " ('', 'Leslie', 'Jennings', '1940 Ford Pickup Truck'),\n",
       " ('', 'Leslie', 'Jennings', '1993 Mazda RX-7'),\n",
       " ('', 'Leslie', 'Jennings', '1937 Lincoln Berline'),\n",
       " ('', 'Leslie', 'Jennings', '1936 Mercedes-Benz 500K Special Roadster'),\n",
       " ('', 'Leslie', 'Jennings', '1965 Aston Martin DB5'),\n",
       " ('', 'Leslie', 'Jennings', '1980s Black Hawk Helicopter'),\n",
       " ('', 'Leslie', 'Jennings', '1917 Grand Touring Sedan'),\n",
       " ('', 'Leslie', 'Jennings', '1948 Porsche 356-A Roadster'),\n",
       " ('', 'Leslie', 'Jennings', '1995 Honda Civic'),\n",
       " ('', 'Leslie', 'Jennings', '1998 Chrysler Plymouth Prowler'),\n",
       " ('', 'Leslie', 'Jennings', '1911 Ford Town Car'),\n",
       " ('', 'Leslie', 'Jennings', '1964 Mercedes Tour Bus'),\n",
       " ('', 'Leslie', 'Jennings', '1932 Model A Ford J-Coupe'),\n",
       " ('', 'Leslie', 'Jennings', '1926 Ford Fire Engine'),\n",
       " ('', 'Leslie', 'Jennings', 'P-51-D Mustang'),\n",
       " ('', 'Leslie', 'Jennings', '1936 Harley Davidson El Knucklehead'),\n",
       " ('', 'Leslie', 'Jennings', '1928 Mercedes-Benz SSK'),\n",
       " ('', 'Leslie', 'Jennings', '1999 Indy 500 Monte Carlo SS'),\n",
       " ('', 'Leslie', 'Jennings', '1913 Ford Model T Speedster'),\n",
       " ('', 'Leslie', 'Jennings', '1934 Ford V8 Coupe'),\n",
       " ('', 'Leslie', 'Jennings', '1999 Yamaha Speed Boat'),\n",
       " ('', 'Leslie', 'Jennings', '18th Century Vintage Horse Carriage'),\n",
       " ('', 'Leslie', 'Jennings', '1903 Ford Model A'),\n",
       " ('', 'Leslie', 'Jennings', '1992 Ferrari 360 Spider red'),\n",
       " ('', 'Leslie', 'Jennings', 'Collectable Wooden Train'),\n",
       " ('', 'Leslie', 'Jennings', '1969 Dodge Super Bee'),\n",
       " ('', 'Leslie', 'Jennings', '1917 Maxwell Touring Car'),\n",
       " ('', 'Leslie', 'Jennings', '1976 Ford Gran Torino'),\n",
       " ('', 'Leslie', 'Thompson', '1948 Porsche Type 356 Roadster'),\n",
       " ('', 'Leslie', 'Jennings', '1957 Vespa GS150'),\n",
       " ('', 'Leslie', 'Jennings', '1941 Chevrolet Special Deluxe Cabriolet'),\n",
       " ('', 'Leslie', 'Jennings', '1970 Triumph Spitfire'),\n",
       " ('', 'Leslie', 'Jennings', '1932 Alfa Romeo 8C2300 Spider Sport'),\n",
       " ('', 'Leslie', 'Jennings', '1904 Buick Runabout'),\n",
       " ('', 'Leslie', 'Jennings', '1940s Ford truck'),\n",
       " ('', 'Leslie', 'Jennings', '1939 Cadillac Limousine'),\n",
       " ('', 'Leslie', 'Jennings', '1957 Corvette Convertible'),\n",
       " ('', 'Leslie', 'Jennings', '1957 Ford Thunderbird'),\n",
       " ('', 'Leslie', 'Jennings', '1970 Chevy Chevelle SS 454'),\n",
       " ('', 'Leslie', 'Jennings', '1970 Dodge Coronet'),\n",
       " ('', 'Leslie', 'Jennings', '1997 BMW R 1100 S'),\n",
       " ('', 'Leslie', 'Jennings', '1966 Shelby Cobra 427 S/C'),\n",
       " ('', 'Leslie', 'Jennings', '1928 British Royal Navy Airplane'),\n",
       " ('', 'Leslie', 'Jennings', '1939 Chevrolet Deluxe Coupe'),\n",
       " ('', 'Leslie', 'Jennings', '1960 BSA Gold Star DBD34'),\n",
       " ('', 'Leslie', 'Jennings', '18th century schooner'),\n",
       " ('', 'Leslie', 'Jennings', '1938 Cadillac V-16 Presidential Limousine'),\n",
       " ('', 'Leslie', 'Jennings', '1962 Volkswagen Microbus'),\n",
       " ('', 'Leslie', 'Jennings', '1982 Ducati 900 Monster'),\n",
       " ('', 'Leslie', 'Jennings', '1949 Jaguar XK 120'),\n",
       " ('', 'Leslie', 'Jennings', '1958 Chevy Corvette Limited Edition'),\n",
       " ('', 'Leslie', 'Jennings', '1900s Vintage Bi-Plane'),\n",
       " ('', 'Leslie', 'Jennings', '1952 Citroen-15CV'),\n",
       " ('', 'Leslie', 'Jennings', '1982 Lamborghini Diablo'),\n",
       " ('', 'Leslie', 'Jennings', '1912 Ford Model T Delivery Wagon'),\n",
       " ('', 'Leslie', 'Jennings', '1969 Chevrolet Camaro Z28'),\n",
       " ('', 'Leslie', 'Jennings', '1971 Alpine Renault 1600s'),\n",
       " ('', 'Leslie', 'Jennings', '1937 Horch 930V Limousine'),\n",
       " ('', 'Leslie', 'Jennings', '2002 Chevy Corvette'),\n",
       " ('', 'Leslie', 'Jennings', '1940 Ford Delivery Sedan'),\n",
       " ('', 'Leslie', 'Jennings', '1956 Porsche 356A Coupe'),\n",
       " ('', 'Leslie', 'Jennings', 'Corsair F4U ( Bird Cage)'),\n",
       " ('', 'Leslie', 'Jennings', '1936 Mercedes Benz 500k Roadster'),\n",
       " ('', 'Leslie', 'Jennings', '1992 Porsche Cayenne Turbo Silver'),\n",
       " ('', 'Leslie', 'Jennings', '1936 Chrysler Airflow'),\n",
       " ('', 'Leslie', 'Jennings', '1900s Vintage Tri-Plane'),\n",
       " ('', 'Leslie', 'Jennings', '1961 Chevrolet Impala'),\n",
       " ('', 'Leslie', 'Jennings', '1980’s GM Manhattan Express'),\n",
       " ('', 'Leslie', 'Jennings', '1997 BMW F650 ST'),\n",
       " ('', 'Leslie', 'Jennings', '1982 Ducati 996 R'),\n",
       " ('', 'Leslie', 'Jennings', '1954 Greyhound Scenicruiser'),\n",
       " ('', 'Leslie', 'Jennings', \"1950's Chicago Surface Lines Streetcar\"),\n",
       " ('', 'Leslie', 'Jennings', '1996 Peterbilt 379 Stake Bed with Outrigger'),\n",
       " ('', 'Leslie', 'Jennings', '1928 Ford Phaeton Deluxe'),\n",
       " ('', 'Leslie', 'Jennings', '1974 Ducati 350 Mk3 Desmo'),\n",
       " ('', 'Leslie', 'Jennings', '1930 Buick Marquette Phaeton'),\n",
       " ('', 'Leslie', 'Jennings', 'Diamond T620 Semi-Skirted Tanker'),\n",
       " ('', 'Leslie', 'Jennings', '1962 City of Detroit Streetcar'),\n",
       " ('', 'Leslie', 'Jennings', '2002 Yamaha YZR M1'),\n",
       " ('', 'Leslie', 'Jennings', 'The Schooner Bluenose'),\n",
       " ('', 'Leslie', 'Jennings', 'American Airlines: B767-300'),\n",
       " ('', 'Leslie', 'Jennings', 'The Mayflower'),\n",
       " ('', 'Leslie', 'Jennings', 'HMS Bounty'),\n",
       " ('', 'Leslie', 'Jennings', 'America West Airlines B757-200'),\n",
       " ('', 'Leslie', 'Thompson', 'The USS Constitution Ship'),\n",
       " ('', 'Leslie', 'Jennings', '1982 Camaro Z28'),\n",
       " ('', 'Leslie', 'Jennings', 'ATA: B757-300'),\n",
       " ('', 'Leslie', 'Jennings', 'F/A 18 Hornet 1/72'),\n",
       " ('', 'Leslie', 'Jennings', 'The Titanic'),\n",
       " ('', 'Leslie', 'Jennings', 'The Queen Mary'),\n",
       " ('', 'Leslie', 'Jennings', 'American Airlines: MD-11S'),\n",
       " ('', 'Leslie', 'Jennings', 'Boeing X-32A JSF'),\n",
       " ('', 'Leslie', 'Jennings', 'Pont Yacht')]"
      ]
     },
     "execution_count": 25,
     "metadata": {},
     "output_type": "execute_result"
    }
   ],
   "source": [
    "# Answers will vary\n",
    "# Example: Display the htmlDescription and employee's first and last name for each product that each employee has sold\n",
    "cur.execute('''SELECT htmlDescription, firstName, lastName, productName FROM employees \n",
    "               JOIN customers ON employees.employeeNumber = customers.salesRepEmployeeNumber\n",
    "               JOIN orders USING(customerNumber) \n",
    "               JOIN orderdetails USING(orderNumber) \n",
    "               JOIN products USING(productCode)\n",
    "               JOIN productlines USING(productLine)\n",
    "               GROUP BY productCode;''').fetchall()"
   ]
  },
  {
   "cell_type": "code",
   "execution_count": null,
   "metadata": {},
   "outputs": [],
   "source": [
    "# Your code here\n",
    "cur.execute('''SELECT * FROM offices JOIN employees USING(officeCode)\n",
    "               GROUP BY officeCode\n",
    "               HAVING COUNT(employeeNumber)=0;''').fetchall()"
   ]
  },
  {
   "cell_type": "code",
   "execution_count": null,
   "metadata": {},
   "outputs": [],
   "source": [
    "# Your code here\n",
    "cur.execute('''SELECT * FROM offices JOIN employees USING(officeCode)\n",
    "               GROUP BY officeCode\n",
    "               HAVING COUNT(employeeNumber)=0;''').fetchall()"
   ]
  },
  {
   "cell_type": "code",
   "execution_count": null,
   "metadata": {},
   "outputs": [],
   "source": [
    "# Your code here"
   ]
  },
  {
   "cell_type": "markdown",
   "metadata": {},
   "source": [
    "## Level Up: Display the names of every individual product that each employee has sold"
   ]
  },
  {
   "cell_type": "code",
   "execution_count": 26,
   "metadata": {},
   "outputs": [
    {
     "data": {
      "text/plain": [
       "[('1969 Harley Davidson Ultimate Chopper',),\n",
       " ('1952 Alpine Renault 1300',),\n",
       " ('1996 Moto Guzzi 1100i',),\n",
       " ('2003 Harley-Davidson Eagle Drag Bike',),\n",
       " ('1972 Alfa Romeo GTA',),\n",
       " ('1962 LanciaA Delta 16V',),\n",
       " ('1968 Ford Mustang',),\n",
       " ('2001 Ferrari Enzo',),\n",
       " ('1958 Setra Bus',),\n",
       " ('2002 Suzuki XREO',),\n",
       " ('1969 Corvair Monza',),\n",
       " ('1968 Dodge Charger',),\n",
       " ('1969 Ford Falcon',),\n",
       " ('1970 Plymouth Hemi Cuda',),\n",
       " ('1957 Chevy Pickup',),\n",
       " ('1969 Dodge Charger',),\n",
       " ('1940 Ford Pickup Truck',),\n",
       " ('1993 Mazda RX-7',),\n",
       " ('1937 Lincoln Berline',),\n",
       " ('1936 Mercedes-Benz 500K Special Roadster',),\n",
       " ('1965 Aston Martin DB5',),\n",
       " ('1980s Black Hawk Helicopter',),\n",
       " ('1917 Grand Touring Sedan',),\n",
       " ('1948 Porsche 356-A Roadster',),\n",
       " ('1995 Honda Civic',),\n",
       " ('1998 Chrysler Plymouth Prowler',),\n",
       " ('1911 Ford Town Car',),\n",
       " ('1964 Mercedes Tour Bus',),\n",
       " ('1932 Model A Ford J-Coupe',),\n",
       " ('1926 Ford Fire Engine',),\n",
       " ('P-51-D Mustang',),\n",
       " ('1936 Harley Davidson El Knucklehead',),\n",
       " ('1928 Mercedes-Benz SSK',),\n",
       " ('1999 Indy 500 Monte Carlo SS',),\n",
       " ('1913 Ford Model T Speedster',),\n",
       " ('1934 Ford V8 Coupe',),\n",
       " ('1999 Yamaha Speed Boat',),\n",
       " ('18th Century Vintage Horse Carriage',),\n",
       " ('1903 Ford Model A',),\n",
       " ('1992 Ferrari 360 Spider red',),\n",
       " ('Collectable Wooden Train',),\n",
       " ('1969 Dodge Super Bee',),\n",
       " ('1917 Maxwell Touring Car',),\n",
       " ('1976 Ford Gran Torino',),\n",
       " ('1948 Porsche Type 356 Roadster',),\n",
       " ('1957 Vespa GS150',),\n",
       " ('1941 Chevrolet Special Deluxe Cabriolet',),\n",
       " ('1970 Triumph Spitfire',),\n",
       " ('1932 Alfa Romeo 8C2300 Spider Sport',),\n",
       " ('1904 Buick Runabout',),\n",
       " ('1940s Ford truck',),\n",
       " ('1939 Cadillac Limousine',),\n",
       " ('1957 Corvette Convertible',),\n",
       " ('1957 Ford Thunderbird',),\n",
       " ('1970 Chevy Chevelle SS 454',),\n",
       " ('1970 Dodge Coronet',),\n",
       " ('1997 BMW R 1100 S',),\n",
       " ('1966 Shelby Cobra 427 S/C',),\n",
       " ('1928 British Royal Navy Airplane',),\n",
       " ('1939 Chevrolet Deluxe Coupe',),\n",
       " ('1960 BSA Gold Star DBD34',),\n",
       " ('18th century schooner',),\n",
       " ('1938 Cadillac V-16 Presidential Limousine',),\n",
       " ('1962 Volkswagen Microbus',),\n",
       " ('1982 Ducati 900 Monster',),\n",
       " ('1949 Jaguar XK 120',),\n",
       " ('1958 Chevy Corvette Limited Edition',),\n",
       " ('1900s Vintage Bi-Plane',),\n",
       " ('1952 Citroen-15CV',),\n",
       " ('1982 Lamborghini Diablo',),\n",
       " ('1912 Ford Model T Delivery Wagon',),\n",
       " ('1969 Chevrolet Camaro Z28',),\n",
       " ('1971 Alpine Renault 1600s',),\n",
       " ('1937 Horch 930V Limousine',),\n",
       " ('2002 Chevy Corvette',),\n",
       " ('1940 Ford Delivery Sedan',),\n",
       " ('1956 Porsche 356A Coupe',),\n",
       " ('Corsair F4U ( Bird Cage)',),\n",
       " ('1936 Mercedes Benz 500k Roadster',),\n",
       " ('1992 Porsche Cayenne Turbo Silver',),\n",
       " ('1936 Chrysler Airflow',),\n",
       " ('1900s Vintage Tri-Plane',),\n",
       " ('1961 Chevrolet Impala',),\n",
       " ('1980’s GM Manhattan Express',),\n",
       " ('1997 BMW F650 ST',),\n",
       " ('1982 Ducati 996 R',),\n",
       " ('1954 Greyhound Scenicruiser',),\n",
       " (\"1950's Chicago Surface Lines Streetcar\",),\n",
       " ('1996 Peterbilt 379 Stake Bed with Outrigger',),\n",
       " ('1928 Ford Phaeton Deluxe',),\n",
       " ('1974 Ducati 350 Mk3 Desmo',),\n",
       " ('1930 Buick Marquette Phaeton',),\n",
       " ('Diamond T620 Semi-Skirted Tanker',),\n",
       " ('1962 City of Detroit Streetcar',),\n",
       " ('2002 Yamaha YZR M1',),\n",
       " ('The Schooner Bluenose',),\n",
       " ('American Airlines: B767-300',),\n",
       " ('The Mayflower',),\n",
       " ('HMS Bounty',),\n",
       " ('America West Airlines B757-200',),\n",
       " ('The USS Constitution Ship',),\n",
       " ('1982 Camaro Z28',),\n",
       " ('ATA: B757-300',),\n",
       " ('F/A 18 Hornet 1/72',),\n",
       " ('The Titanic',),\n",
       " ('The Queen Mary',),\n",
       " ('American Airlines: MD-11S',),\n",
       " ('Boeing X-32A JSF',),\n",
       " ('Pont Yacht',)]"
      ]
     },
     "execution_count": 26,
     "metadata": {},
     "output_type": "execute_result"
    }
   ],
   "source": [
    "cur.execute('''SELECT productName FROM employees \n",
    "               JOIN customers ON employees.employeeNumber = customers.salesRepEmployeeNumber\n",
    "               JOIN orders USING(customerNumber) \n",
    "               JOIN orderdetails USING(orderNumber) \n",
    "               JOIN products USING(productCode)\n",
    "               GROUP BY productCode;''').fetchall()"
   ]
  },
  {
   "cell_type": "markdown",
   "metadata": {},
   "source": [
    "## Level Up: Display the Number of Products each employee has sold"
   ]
  },
  {
   "cell_type": "code",
   "execution_count": 30,
   "metadata": {},
   "outputs": [
    {
     "data": {
      "text/plain": [
       "[('1165', 'Leslie', 'Jennings', 331),\n",
       " ('1166', 'Leslie', 'Thompson', 114),\n",
       " ('1188', 'Julie', 'Firrelli', 124),\n",
       " ('1216', 'Steve', 'Patterson', 152),\n",
       " ('1286', 'Foon Yue', 'Tseng', 142),\n",
       " ('1323', 'George', 'Vanauf', 211),\n",
       " ('1337', 'Loui', 'Bondur', 177),\n",
       " ('1370', 'Gerard', 'Hernandez', 396),\n",
       " ('1401', 'Pamela', 'Castillo', 272),\n",
       " ('1501', 'Larry', 'Bott', 236),\n",
       " ('1504', 'Barry', 'Jones', 220),\n",
       " ('1611', 'Andy', 'Fixter', 185),\n",
       " ('1612', 'Peter', 'Marsh', 185),\n",
       " ('1621', 'Mami', 'Nishi', 137),\n",
       " ('1702', 'Martin', 'Gerard', 114)]"
      ]
     },
     "execution_count": 30,
     "metadata": {},
     "output_type": "execute_result"
    }
   ],
   "source": [
    "cur.execute('''SELECT employeeNumber, firstName, lastName, count(productCode) FROM employees \n",
    "               JOIN customers ON employees.employeeNumber = customers.salesRepEmployeeNumber\n",
    "               JOIN orders USING(customerNumber) \n",
    "               JOIN orderdetails USING(orderNumber) \n",
    "               JOIN products USING(productCode)\n",
    "               GROUP BY employeeNumber;''').fetchall()"
   ]
  },
  {
   "cell_type": "markdown",
   "metadata": {},
   "source": [
    "## Summary"
   ]
  },
  {
   "cell_type": "markdown",
   "metadata": {},
   "source": [
    "Congrats! You practiced using join statements and leveraged your foreign keys knowledge!"
   ]
  }
 ],
 "metadata": {
  "kernelspec": {
   "display_name": "Python 3",
   "language": "python",
   "name": "python3"
  },
  "language_info": {
   "codemirror_mode": {
    "name": "ipython",
    "version": 3
   },
   "file_extension": ".py",
   "mimetype": "text/x-python",
   "name": "python",
   "nbconvert_exporter": "python",
   "pygments_lexer": "ipython3",
   "version": "3.6.9"
  },
  "toc": {
   "base_numbering": 1,
   "nav_menu": {},
   "number_sections": true,
   "sideBar": true,
   "skip_h1_title": false,
   "title_cell": "Table of Contents",
   "title_sidebar": "Contents",
   "toc_cell": false,
   "toc_position": {},
   "toc_section_display": true,
   "toc_window_display": false
  }
 },
 "nbformat": 4,
 "nbformat_minor": 2
}
